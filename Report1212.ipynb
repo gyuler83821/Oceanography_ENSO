{
 "cells": [
  {
   "cell_type": "markdown",
   "metadata": {},
   "source": [
    "## data visualization of SOI ##"
   ]
  },
  {
   "cell_type": "code",
   "execution_count": 8,
   "metadata": {},
   "outputs": [],
   "source": [
    "START = 1981\n",
    "FINAL = 2017"
   ]
  },
  {
   "cell_type": "code",
   "execution_count": 9,
   "metadata": {},
   "outputs": [
    {
     "name": "stdout",
     "output_type": "stream",
     "text": [
      "finish\n"
     ]
    }
   ],
   "source": [
    "import pandas as pd\n",
    "import numpy as np\n",
    "import plotly\n",
    "import plotly.graph_objs as go\n",
    "\n",
    "\n",
    "def readfile(file_name):\n",
    "    data = []\n",
    "    year = []\n",
    "    for i in range(1951,2019):\n",
    "        year.append(i)\n",
    "    index = []\n",
    "    file = open(file_name, \"r\")\n",
    "    flag = True\n",
    "    while(flag):\n",
    "        line = file.readline()\n",
    "        if(\"JAN\" in line and len(index) == 0):\n",
    "            index = line.strip(\"\\n\").split(\"  \")\n",
    "            while(\"\" in index):\n",
    "                del index[index.index(\"\")]\n",
    "            del index[0]\n",
    "            continue\n",
    "        elif (\"    \" in line or \"2019\" in line or \"2020\" in line):\n",
    "            if(\"    \" in line):\n",
    "                continue\n",
    "            else:\n",
    "                df = pd.DataFrame(index = year, data = data, columns =index)\n",
    "                flag = False\n",
    "        elif(line == ''):\n",
    "            break\n",
    "        row = line.strip(\"\\n\").split(\"  \")\n",
    "        if(\"-\" in row[-1]):\n",
    "            row += row[-1].split(\"-\")\n",
    "            del row[-3]\n",
    "        row = row[1:]\n",
    "        while(\"\" in row):\n",
    "            del row[row.index(\"\")]\n",
    "        for i in range(len(row)):\n",
    "            row[i] = row[i].strip(\" \")\n",
    "            row[i] = float(row[i])\n",
    "        data.append(row)\n",
    "    \n",
    "    #write to csv file\n",
    "    name = file_name.split(\".\")[0] + \".csv\"\n",
    "    df.to_csv(name, index = True, sep = \",\")\n",
    "    \n",
    "    std_array = {}\n",
    "    std = []\n",
    "    month = 0\n",
    "    for k in index:\n",
    "        std_array[k] = []\n",
    "\n",
    "    for i in index:\n",
    "        std_array[i] += df[i][1981-1951:2011-1951].tolist()\n",
    "        std.append([np.mean(std_array[i]), np.std(std_array[i])])\n",
    "\n",
    "    for i in range(0,12):\n",
    "        df[index[i]][:] = (df[index[i]][:] - std[i][0]) / std[i][1]\n",
    "    return df\n",
    "\n",
    "df = readfile(\"darwin.txt\")\n",
    "df2 = readfile(\"tahiti.txt\")\n",
    "print(\"finish\")"
   ]
  },
  {
   "cell_type": "code",
   "execution_count": null,
   "metadata": {},
   "outputs": [],
   "source": [
    "file_name = \"darwin.txt\"\n",
    "name = file_name.split(\".\")[0]\n",
    "print(name)"
   ]
  },
  {
   "cell_type": "code",
   "execution_count": 10,
   "metadata": {},
   "outputs": [
    {
     "data": {
      "text/plain": [
       "'file://C:\\\\Users\\\\1234\\\\Desktop\\\\海洋學報告\\\\temp-plot.html'"
      ]
     },
     "execution_count": 10,
     "metadata": {},
     "output_type": "execute_result"
    }
   ],
   "source": [
    "import plotly.plotly as py\n",
    "import plotly.offline as offline\n",
    "\n",
    "array = []\n",
    "for i in range(START-1951, FINAL-1951):\n",
    "    array += df.iloc[i].tolist()\n",
    "array2 = []\n",
    "for i in range(START-1951, FINAL-1951):\n",
    "    array2 += df2.iloc[i].tolist()\n",
    "tmp = []\n",
    "index = [' JAN', ' FEB', ' MAR', ' APR', ' MAY', ' JUN', ' JUL', ' AUG', ' SEP', ' OCT', ' NOV', ' DEC']\n",
    "m = 0\n",
    "for i in range(START-1951, FINAL-1951):\n",
    "    for m in index:\n",
    "        tmp.append(str(i+1951) + m)\n",
    "\n",
    "trace = go.Scatter(\n",
    "        mode = \"markers\" ,\n",
    "        marker=dict( #設定點的性質\n",
    "                size=10,\n",
    "                color=\"orange\"),\n",
    "        x = array,\n",
    "        y = array2)\n",
    "\n",
    "layout = dict(title = 'Scatter Chart' ,\n",
    "              xaxis = dict(title = 'Darwin'),\n",
    "              yaxis = dict(title = 'Tahiti'),\n",
    "              )\n",
    "\n",
    "data = [trace] #origial data compared\n",
    "fig=go.Figure(data=data, layout=layout)\n",
    "#offline.iplot(fig)\n",
    "offline.plot(fig)"
   ]
  },
  {
   "cell_type": "code",
   "execution_count": 4,
   "metadata": {},
   "outputs": [
    {
     "name": "stdout",
     "output_type": "stream",
     "text": [
      "correlation coefficient of x and y :  -0.29856786266213203\n"
     ]
    }
   ],
   "source": [
    "import scipy.stats as stats\n",
    "corre, p = stats.pearsonr(array,array2)\n",
    "print(\"correlation coefficient of x and y : \", corre)"
   ]
  },
  {
   "cell_type": "code",
   "execution_count": 11,
   "metadata": {},
   "outputs": [
    {
     "data": {
      "text/plain": [
       "'file://C:\\\\Users\\\\1234\\\\Desktop\\\\海洋學報告\\\\temp-plot.html'"
      ]
     },
     "execution_count": 11,
     "metadata": {},
     "output_type": "execute_result"
    }
   ],
   "source": [
    "msd = []\n",
    "df3 = df - df2  #darwin-tahiti\n",
    "for i in index:\n",
    "    msd.append(df3[i][1981-1951:2011-1951].tolist())\n",
    "k = np.std(msd)\n",
    "\n",
    "df3 = df3[:][:] / k\n",
    "\n",
    "array3 = []\n",
    "for i in range(START-1951, FINAL-1951):\n",
    "    array3 += df3.iloc[i].tolist()\n",
    "\n",
    "a, b = [], []\n",
    "for i in range(len(array3)):\n",
    "    if(array3[i] > 0):\n",
    "        a.append(array3[i])\n",
    "        b.append(0)\n",
    "    else:\n",
    "        b.append(array3[i])\n",
    "        a.append(0)\n",
    "    \n",
    "data1 = go.Bar(\n",
    "        marker = dict(color = \"blue\"),\n",
    "        x = tmp,\n",
    "        y = a)\n",
    "data2 = go.Bar(\n",
    "        marker = dict(color = \"red\"),\n",
    "        x = tmp,\n",
    "        y = b)\n",
    "data = [data1, data2]\n",
    "#offline.iplot(data)\n",
    "offline.plot(data)\n"
   ]
  }
 ],
 "metadata": {
  "kernelspec": {
   "display_name": "Python 3",
   "language": "python",
   "name": "python3"
  },
  "language_info": {
   "codemirror_mode": {
    "name": "ipython",
    "version": 3
   },
   "file_extension": ".py",
   "mimetype": "text/x-python",
   "name": "python",
   "nbconvert_exporter": "python",
   "pygments_lexer": "ipython3",
   "version": "3.6.4"
  }
 },
 "nbformat": 4,
 "nbformat_minor": 2
}
